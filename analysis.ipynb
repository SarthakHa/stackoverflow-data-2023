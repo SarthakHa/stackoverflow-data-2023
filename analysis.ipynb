{
 "cells": [
  {
   "cell_type": "code",
   "execution_count": null,
   "metadata": {},
   "outputs": [],
   "source": [
    "import pandas as pd\n",
    "import numpy as np"
   ]
  },
  {
   "cell_type": "code",
   "execution_count": null,
   "metadata": {},
   "outputs": [],
   "source": [
    "survey_results = pd.read_csv(filepath_or_buffer=\"data/survey_results_public.csv\", header=0)"
   ]
  },
  {
   "cell_type": "code",
   "execution_count": null,
   "metadata": {},
   "outputs": [],
   "source": [
    "survey_results.columns"
   ]
  },
  {
   "cell_type": "code",
   "execution_count": null,
   "metadata": {},
   "outputs": [],
   "source": [
    "languages_have_arr = survey_results[\"LanguageHaveWorkedWith\"].str.split(\";\")\n",
    "languages_want_arr = survey_results[\"LanguageWantToWorkWith\"].str.split(\";\")"
   ]
  },
  {
   "cell_type": "code",
   "execution_count": null,
   "metadata": {},
   "outputs": [],
   "source": [
    "exploded_languages_have = languages_have_arr.explode().unique()\n",
    "exploded_languages_want = languages_want_arr.explode().unique()"
   ]
  },
  {
   "cell_type": "code",
   "execution_count": null,
   "metadata": {},
   "outputs": [],
   "source": [
    "unique_languages = np.concatenate([exploded_languages_have, exploded_languages_want])\n",
    "unique_languages = np.array([e for e in unique_languages if str(e) != 'nan'])\n",
    "unique_languages"
   ]
  },
  {
   "cell_type": "code",
   "execution_count": 60,
   "metadata": {},
   "outputs": [],
   "source": [
    "def unique_a_b(series_a, series_b):\n",
    "    series_a_arr = series_a.str.split(\";\")\n",
    "    a_b = exploded_series_a = series_a_arr.explode().unique()\n",
    "    if series_b:\n",
    "        series_b_arr = series_b.str.split(\";\")\n",
    "        exploded_series_b = series_b_arr.explode().unique()\n",
    "        a_b = np.concatenate([exploded_series_a, exploded_series_b])\n",
    "    unique_a_b = np.array([e for e in a_b if str(e) != 'nan'])\n",
    "    return unique_a_b\n",
    "\n",
    "def get_boolean_cols(df: pd.DataFrame, col_name, col_2_name):\n",
    "    \"\"\"\n",
    "    Given dataframe and 2 column names, it will find uniques across the 2 column names and then create\n",
    "    extra columns in a copy of the df that are booleans for each unique value as to whether the entry has it or not.\n",
    "    Note: Can also pass in just 1 column name\n",
    "    \"\"\"\n",
    "    series_a_arr = df[col_name].str.split(\";\")\n",
    "    new_df = df.copy(deep=True)\n",
    "    new_df[col_name] = series_a_arr\n",
    "    col_2 = df[col_2_name] if col_2_name else None\n",
    "    unique_values = unique_a_b(df[col_name], col_2)\n",
    "    for val in unique_values:\n",
    "        new_df[f\"{col_name}={val}\"] = new_df.apply(lambda x: 1 if str(x[col_name]) != 'nan' and val in x[col_name] else 0, axis=1)\n",
    "    return new_df\n",
    "        \n"
   ]
  },
  {
   "cell_type": "code",
   "execution_count": 59,
   "metadata": {},
   "outputs": [
    {
     "data": {
      "text/plain": [
       "0        0\n",
       "1        1\n",
       "2        0\n",
       "3        0\n",
       "4        0\n",
       "        ..\n",
       "89179    0\n",
       "89180    1\n",
       "89181    1\n",
       "89182    1\n",
       "89183    0\n",
       "Name: LanguageHaveWorkedWith=Python, Length: 89184, dtype: int64"
      ]
     },
     "execution_count": 59,
     "metadata": {},
     "output_type": "execute_result"
    }
   ],
   "source": [
    "# example usage\n",
    "lang_cols = get_boolean_cols(survey_results, \"LanguageHaveWorkedWith\", \"LanguageWantToWorkWith\")\n",
    "lang_cols[\"LanguageHaveWorkedWith=Python\"]"
   ]
  },
  {
   "cell_type": "code",
   "execution_count": null,
   "metadata": {},
   "outputs": [],
   "source": []
  }
 ],
 "metadata": {
  "kernelspec": {
   "display_name": "stack-overflow-data",
   "language": "python",
   "name": "python3"
  },
  "language_info": {
   "codemirror_mode": {
    "name": "ipython",
    "version": 3
   },
   "file_extension": ".py",
   "mimetype": "text/x-python",
   "name": "python",
   "nbconvert_exporter": "python",
   "pygments_lexer": "ipython3",
   "version": "3.9.0"
  }
 },
 "nbformat": 4,
 "nbformat_minor": 2
}
